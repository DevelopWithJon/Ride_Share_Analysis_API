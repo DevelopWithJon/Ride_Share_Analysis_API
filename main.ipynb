{
 "cells": [
  {
   "cell_type": "markdown",
   "id": "f464122a",
   "metadata": {},
   "source": [
    "# Ride Share Analysis and Web Application"
   ]
  },
  {
   "cell_type": "markdown",
   "id": "b37dc142",
   "metadata": {},
   "source": [
    "## Import dependencies and project configurations"
   ]
  },
  {
   "cell_type": "code",
   "execution_count": 126,
   "id": "d779d5a9",
   "metadata": {},
   "outputs": [],
   "source": [
    "import calendar\n",
    "import datetime\n",
    "import logging\n",
    "import matplotlib\n",
    "import numpy as np\n",
    "import pandas as pd\n",
    "\n",
    "from matplotlib import pyplot as plt\n",
    "from typing import Any, Callable, Dict, List, Optional, Union\n",
    "\n",
    "from utils.configs import CHART_ANVIL_API, STATS_ANVIL_API\n",
    "from utils.constants import KM_TO_MI, STANDARD_RIDE_TYPES\n",
    "\n",
    "# configure pandas to show more rows and columns\n",
    "pd.get_option(\"max_columns\", None)\n",
    "pd.set_option('max_rows', 200)\n",
    "\n",
    "# configure matplotlib to show more datapoints\n",
    "matplotlib.rcParams['agg.path.chunksize'] = 100000\n",
    "\n",
    "# configure logging\n",
    "\n",
    "logging.basicConfig(level=logging.DEBUG)\n",
    "logger = logging.getLogger(__name__)\n",
    "handler = logging.FileHandler('logs.log')\n",
    "logger.addHandler(handler)"
   ]
  },
  {
   "cell_type": "markdown",
   "id": "66cb9333",
   "metadata": {},
   "source": [
    "# Utility Functions"
   ]
  },
  {
   "cell_type": "markdown",
   "id": "79bb5ce2",
   "metadata": {},
   "source": [
    "### Cleaning and Parsing Utils"
   ]
  },
  {
   "cell_type": "code",
   "execution_count": 119,
   "id": "3f0a293c",
   "metadata": {},
   "outputs": [],
   "source": [
    "def counter(f: Callable):\n",
    "    \"\"\"\n",
    "    Increment a counter on a function everytime it is called. \n",
    "    Used to determine the number of ignored records in a latter function.\n",
    "    \n",
    "    :params f: function input\n",
    "    :type f: Callable\n",
    "    :return\n",
    "    \"\"\"\n",
    "    def wrapped(*args, **kwargs):\n",
    "        wrapped.count+=1\n",
    "        result = f(*args, **kwargs)\n",
    "        return result\n",
    "    wrapped.count = 0\n",
    "    return wrapped"
   ]
  },
  {
   "cell_type": "code",
   "execution_count": 120,
   "id": "90748fcd",
   "metadata": {},
   "outputs": [],
   "source": [
    "@counter\n",
    "def ignored_counter():\n",
    "    \"\"\"This function is called when an abnormalis product_desciption record is found.\"\"\"\n",
    "    pass"
   ]
  },
  {
   "cell_type": "code",
   "execution_count": 121,
   "id": "ef8344bd",
   "metadata": {},
   "outputs": [],
   "source": [
    "def fill_na(column: pd.Series) -> pd.Series:\n",
    "    \"\"\"\n",
    "    if type float or object,\n",
    "    fill null values by column type\n",
    "    \n",
    "    :param merchant: DataFrame column\n",
    "    :type merchant: pd.Series\n",
    "    :rtype: pd.Series\n",
    "    :return column with filled null values\n",
    "    \n",
    "    \"\"\"\n",
    "    if column.dtypes == np.float64:\n",
    "        column = column.fillna(0.0)\n",
    "    if column.dtypes == \"O\":\n",
    "        column = column.fillna(\"N/A\")\n",
    "    else:\n",
    "        column = column\n",
    "    return column"
   ]
  },
  {
   "cell_type": "code",
   "execution_count": 122,
   "id": "31b13865",
   "metadata": {},
   "outputs": [],
   "source": [
    "def parse_ride_data(data: pd.Series) -> pd.Series:\n",
    "    \"\"\"\n",
    "    Split and clean traditional ride data into the type of ride, distance travel, and duration of the ride.\n",
    "    \n",
    "    if non traditional ride data record detected,\n",
    "    add columns and values to dataframe\n",
    "    \n",
    "    :param data: Rows from Dataframe\n",
    "    :type data: pd.Series\n",
    "    :rtype: pd.Series\n",
    "    :return: dataframe with newly added columns and values\n",
    "    \n",
    "    \"\"\"\n",
    "    merchant, ride_data = data['merchant_name'], data['product_description']\n",
    "    try:\n",
    "        if merchant == \"Uber\":\n",
    "            if \"|\" in ride_data:\n",
    "                ride_info, duration_data = ride_data.split(\"|\")\n",
    "                ride_type, distance_data = ride_info.split(\" \", 1)\n",
    "            else:\n",
    "                ride_type, distance_data, duration_data = ride_data, \"N/A\", \"N/A\"\n",
    "        elif merchant == \"Lyft\":\n",
    "            if \"(\" in ride_data:\n",
    "                ride_type, travel_data = ride_data.split(\"(\")\n",
    "                travel_data = travel_data[:-1]\n",
    "                distance_data, duration_data = travel_data.split(\",\")\n",
    "            else:\n",
    "                ride_type, distance_data, duration_data = ride_data, \"N/A\", \"N/A\"\n",
    "        else:\n",
    "            ride_type, distance_data, duration_data = ride_data, \"N/A\", \"N/A\"\n",
    "    except: \n",
    "        # this should trigger in the case where data meets the intiatal condition of either containing \"|\" \n",
    "        # or \"(\" but does not follow the remaining tradition conventions ie. abonormal record (examples: additional delimiters,\n",
    "        # spacing issues, too many to unpack, etc)\n",
    "        \n",
    "        ignored_counter()\n",
    "        logger.info(f\"{ride_data} was ignored\")\n",
    "        ride_type, distance_data, duration_data = ride_data, \"N/A\", \"N/A\"\n",
    "    data['ride_type'] = ride_type.strip(),\n",
    "    data['distance_data'] =  distance_data.strip()\n",
    "    data['duration_data'] =  duration_data.strip()\n",
    "    return data"
   ]
  },
  {
   "cell_type": "markdown",
   "id": "190509e7",
   "metadata": {},
   "source": [
    "### API utils"
   ]
  },
  {
   "cell_type": "code",
   "execution_count": 125,
   "id": "3c53d4f2",
   "metadata": {},
   "outputs": [],
   "source": [
    "def remap_dict(dictionary: Dict[str,str]) -> List[str]:\n",
    "    \"\"\"\n",
    "    flatten pandas statistics to be read by API.\n",
    "    \n",
    "    :params dictionary: pandas statistics in dictionary format\n",
    "    :type dictionary: dict\n",
    "    :rtype list\n",
    "    :return list of dictionaries of stats data\n",
    "    \"\"\"\n",
    "    res = []\n",
    "    for key, value in dictionary.items():\n",
    "        if isinstance(value, dict):\n",
    "            new_dictionary = {'name': key, **value}\n",
    "            res.append(new_dictionary)\n",
    "        else:\n",
    "            res.append({key: value})\n",
    "    return res"
   ]
  },
  {
   "cell_type": "markdown",
   "id": "a9a58000",
   "metadata": {},
   "source": [
    "## Import and clean data"
   ]
  },
  {
   "cell_type": "code",
   "execution_count": 7,
   "id": "db8805c8",
   "metadata": {},
   "outputs": [],
   "source": [
    "data = pd.read_csv(\"RideShareDataNew.csv\") # read data DO NOT RUN data is stored below"
   ]
  },
  {
   "cell_type": "markdown",
   "id": "54194cfc",
   "metadata": {},
   "source": [
    "## Cleaning Strategy\n",
    "\n",
    "### Filling null values based on data type - fill_Na\n",
    "\n",
    "#### Function Description\n",
    "\n",
    "First I am replacing null values based on the column data type. The default NaN made it difficult to filter, identify, and parse the information. I opted to replace float columns with 0.0 and object/string columns in \"N/A\" for easy of future transfermation and personal comfortability. This is not completely necessary, but given the time constraint of the assignment I opted to make the data as easy to work with as possible to spend more time on additional features\n",
    "\n",
    "### Splitting product descriptions - parse_ride_data\n",
    "\n",
    "#### Function Description\n",
    "\n",
    "The product description contains many different types of products each in a unique and somewhat inconsistent format. Given the large amount of data I did not find it time efficient to identify each product type and its format/excpetions. From my brief scan of the column it looks like it include traditional ride shares for Uber and Lyft, meal deliveries, and what I assume to be giftcard purchases via a reseller. I decided to focus my attention on cleaning, parsing and splitting traditional ride share data into its own column in the dataframe. in the parse_ride_data function I do just that and return \"N/A\" for cases that are not traditional ride shares. Data life-cycle: product_description -> ride_type, ride_distance, ride_duration. Moreover I found many variations to the traditional format, given the time constraints I did not believe would to. (Example of an abnormal product_description = \"UberX UberX 2.36 miles | 5 min 2.36 miles | 5 min\")\n",
    "\n",
    "#### Function Bugs\n",
    "\n",
    "When parsing data this function takes the ride_type value which is a string during processing and returns it as a tuple to the dataframe column. This is corrected during additional cleaning later. (Attempted to correct within the function with no success). "
   ]
  },
  {
   "cell_type": "code",
   "execution_count": null,
   "id": "eaf22c92",
   "metadata": {},
   "outputs": [],
   "source": [
    "# replace null values\n",
    "filtered_data = data.copy()\n",
    "filtered_data = filtered_data.apply(fill_na, axis=0)\n",
    "\n",
    "# add columns for ride information in product description colum\n",
    "filtered_data = filtered_data.apply(parse_ride_data, axis=1)"
   ]
  },
  {
   "cell_type": "code",
   "execution_count": 169,
   "id": "dab946e9",
   "metadata": {},
   "outputs": [
    {
     "name": "stdout",
     "output_type": "stream",
     "text": [
      "Stored 'filtered_data' (DataFrame)\n"
     ]
    }
   ],
   "source": [
    "%store filtered_data # store filtered data DO NOT RUN AGAIN (10 hour long process)"
   ]
  },
  {
   "cell_type": "code",
   "execution_count": 38,
   "id": "2ce38246",
   "metadata": {},
   "outputs": [
    {
     "name": "stdout",
     "output_type": "stream",
     "text": [
      "no stored variable or alias #\n",
      "no stored variable or alias retrieve\n",
      "no stored variable or alias stored\n",
      "no stored variable or alias data\n"
     ]
    }
   ],
   "source": [
    "%store -r filtered_data  # retrieve stored data"
   ]
  },
  {
   "cell_type": "markdown",
   "id": "acdacc88",
   "metadata": {},
   "source": [
    "### Additional Cleaning and Filtering\n",
    "\n",
    "- Converted ride_type from tuple to string. \n",
    "- Convert order_time to datetime object. \n",
    "- Filter order from 2020 onward. \n",
    "- Parse and add distance and distance_metric columns on distance_data using regex example: \"2.21 miles\" &rarr; 2.21 | \"miles\". Convert distance to int. Standardize distance metric to abbreviations (example: \"miles\" &rarr; \"mi\"). Lastly convert kilometer distances to miles. "
   ]
  },
  {
   "cell_type": "code",
   "execution_count": 39,
   "id": "1adf3f4a",
   "metadata": {},
   "outputs": [],
   "source": [
    "# additional cleaning from parse_ride_data function\n",
    "filtered_data['ride_type'] = filtered_data['ride_type'].apply(lambda x: x[0] if type(x) == tuple else x)\n",
    "filtered_data['order_time'] = pd.to_datetime(filtered_data['order_time'], infer_datetime_format=True, errors='coerce')\n",
    "\n",
    "# convert to datetime obj\n",
    "df_2020 = filtered_data[filtered_data['order_time'] > datetime.datetime(2020,1,1)]\n",
    "\n",
    "# exact number and metric using regex\n",
    "df_distance_2020 = df_2020.copy()\n",
    "df_distance_2020['distance'] = df_distance_2020['distance_data'].str.extract('(^\\d*[.]?\\d*)')\n",
    "df_distance_2020['distance_metric'] = df_distance_2020['distance_data'].str.extract('([a-zA-Z]+)')\n",
    "\n",
    "# convert to distance to float\n",
    "df_distance_filtered_2020 = df_distance_2020.copy()\n",
    "df_distance_filtered_2020 = df_distance_filtered_2020[df_distance_filtered_2020['distance_data'] != \"N/A\"]\n",
    "df_distance_filtered_2020.loc['distance'] = df_distance_filtered_2020['distance'].astype(np.float64, errors='ignore')\n",
    "\n",
    "# convert miltes to abbreviation\n",
    "mi_mask = df_distance_filtered_2020['distance_metric'].isin((\"mi\", \"miles\"))\n",
    "km_mask = df_distance_filtered_2020['distance_metric'].isin((\"km\", 'kilometers','kilometres'))\n",
    "df_distance_filtered_2020.loc[mi_mask,'distance_in_miles'] = df_distance_filtered_2020[mi_mask]['distance']\n",
    "df_distance_filtered_2020.loc[km_mask,'distance_in_miles'] = df_distance_filtered_2020[km_mask]['distance'].apply(lambda x: float(x)*KM_TO_MI)\n",
    "\n",
    "# removing records without a distance and abnormal cases\n",
    "df_distance_filtered_2020.dropna(subset=['distance_in_miles'], inplace=True)\n",
    "df_distance_filtered_2020 = df_distance_filtered_2020.assign(value_per_mi = lambda x: pd.to_numeric(x['order_total_amount'])/pd.to_numeric(x['distance_in_miles']))\n",
    "df_distance_filtered_2020['distance_in_miles'] = df_distance_filtered_2020['distance_in_miles'].astype(float)\n",
    "df_distance_filtered_2020['value_per_mi'] = df_distance_filtered_2020['value_per_mi'].astype(float)\n",
    "\n",
    "# drop uncessary columns\n",
    "clean_truncated_2020_df = df_distance_filtered_2020.drop(columns=['order_number', 'email_time', 'update_time', 'insert_time', 'order_shipping', 'from_domain', 'email_subject', 'max_delivery_date', 'sku', 'item_id', 'distance','distance_metric', 'product_subtitle', 'product_category', 'max_update_time', 'delivery_date', 'distance_data', 'product_reseller','order_pickup','checksum', 'digital_transaction'])"
   ]
  },
  {
   "cell_type": "markdown",
   "id": "1430ed94",
   "metadata": {},
   "source": [
    "### Set up Sample data\n",
    "\n",
    "- Sample 10% of the data to reduce volume. \n",
    "- Add month column with calendar module"
   ]
  },
  {
   "cell_type": "code",
   "execution_count": 40,
   "id": "1591aeb0",
   "metadata": {},
   "outputs": [],
   "source": [
    "# since we are dealing with millions of datapoints even after only focusing on a subgroup, we want to take a random sample to readuce load on the program\n",
    "sample_df = clean_truncated_2020_df.sample(frac=0.1)\n",
    "sample_df['month_abbr'] = sample_df.order_time.apply(lambda x: calendar.month_abbr[x.month])\n",
    "sample_df['distance_in_miles'] = sample_df['distance_in_miles'].astype(float)\n",
    "sample_df['value_per_mi'] = sample_df['value_per_mi'].astype(float)"
   ]
  },
  {
   "cell_type": "markdown",
   "id": "d51ed46a",
   "metadata": {},
   "source": [
    "## Charts and Analysis\n",
    "\n",
    "Simple Graph Analysis with plot/matplotlib\n",
    "\n",
    "Plot parameters: Group data by month, filtered by order total, aggregated the data to save and plotted a simple bar char.\n",
    "Result: I determined the most profitable month for all ride shares from 2020 onward was February and the least profitable was November"
   ]
  },
  {
   "cell_type": "code",
   "execution_count": 15,
   "id": "3b9b9173",
   "metadata": {},
   "outputs": [
    {
     "data": {
      "text/plain": [
       "<AxesSubplot:title={'center':'Revenue per Month (2020-01 to 2021-11)'}, xlabel='Month (abbreviated)', ylabel='Revenue ($)'>"
      ]
     },
     "execution_count": 15,
     "metadata": {},
     "output_type": "execute_result"
    },
    {
     "data": {
      "image/png": "[encoded data removed]",
      "text/plain": [
       "<Figure size 432x288 with 1 Axes>"
      ]
     },
     "metadata": {
      "needs_background": "light"
     },
     "output_type": "display_data"
    }
   ],
   "source": [
    "sample_df.groupby(by=['month_abbr'])['order_total_amount'].sum().plot(kind='bar', title='Revenue per Month (2020-01 to 2021-11)', xlabel = 'Month (abbreviated)', ylabel = 'Revenue ($)')"
   ]
  },
  {
   "cell_type": "markdown",
   "id": "734b3ef2",
   "metadata": {},
   "source": [
    "## API Utils\n",
    "\n",
    "Establish connection between anvil API and notebook\n",
    "The web app will give provide parameters and call the function, then display the result."
   ]
  },
  {
   "cell_type": "code",
   "execution_count": 124,
   "id": "0e7f3300",
   "metadata": {},
   "outputs": [
    {
     "name": "stdout",
     "output_type": "stream",
     "text": [
      "Disconnecting from previous connection first...\n",
      "Connecting to wss://anvil.works/uplink\n",
      "Anvil websocket closed (code 1000, reason=b'')\n"
     ]
    },
    {
     "name": "stderr",
     "output_type": "stream",
     "text": [
      "INFO:__main__:Connecting to anvil API...\n"
     ]
    },
    {
     "name": "stdout",
     "output_type": "stream",
     "text": [
      "Anvil websocket open\n",
      "Connected to \"Default environment\" as SERVER\n"
     ]
    }
   ],
   "source": [
    "import anvil.server\n",
    "\n",
    "anvil.server.connect(STATS_ANVIL_API)\n",
    "logger.info(\"Connecting to anvil API...\")\n",
    "\n",
    "@anvil.server.callable()\n",
    "def ride_type_desc_api(product: str) -> List[Dict[str,Any]]:\n",
    "    \"\"\"\n",
    "    Fetch pandas describe results (general stats) on a ride type\n",
    "    \n",
    "    :params product: Ride type user wants to recieve stats on\n",
    "    :type: product: str\n",
    "    :rtype list\n",
    "    :return stats list \n",
    "    \"\"\"\n",
    "    logger.info(\"Connection to anvil API established\")\n",
    "    \n",
    "    if product in STANDARD_RIDE_TYPES:\n",
    "        result = sample_df[sample_df['ride_type'] == str(product)].describe().round().to_dict()\n",
    "    else:\n",
    "        result = f\"Error: ride type: {product} not currently available\" # sending error message to API\n",
    "    result_remap = remap_dict(result)\n",
    "    return result_remap"
   ]
  },
  {
   "cell_type": "code",
   "execution_count": 108,
   "id": "03d8d742",
   "metadata": {},
   "outputs": [
    {
     "name": "stderr",
     "output_type": "stream",
     "text": [
      "INFO:__main__:Connecting to anvil API...\n"
     ]
    }
   ],
   "source": [
    "import anvil.server\n",
    "import anvil.media\n",
    "\n",
    "logger.info(\"Connecting to anvil API...\")\n",
    "\n",
    "anvil.server.connect(CHART_ANVIL_API)\n",
    "\n",
    "\n",
    "@anvil.server.callable()\n",
    "def create_plot(grouby_name=None, filter_by=None, operation=None, kind=None, title=None, xlabel=None, ylabel=None, legend=False) -> Union[anvil.BlobMedia, str]:\n",
    "    \"\"\"\n",
    "    Fetch chart\n",
    "    \n",
    "    params:\n",
    "        grouby_name: Optional[str], filter_by: Optional[str], operation: Optional[str], kind: Optional[str],\n",
    "        title: Optional[str], xlabel: Optional[str], ylabel: Optional[str], legend: Optional[bool] \n",
    "        \n",
    "    :rtype anvill.BlombMedia\n",
    "    :return chart image\n",
    "    \n",
    "    \"\"\"\n",
    "    logger.info(\"Connection to anvil API established\")\n",
    "    logger.info(f\"creating new chart request for: {grouby_name=},{filter_by=},{kind=},{title=},{xlabel=},{ylabel=}\")\n",
    "    if not kind:\n",
    "        kind = 'bar'\n",
    "    df = sample_df\n",
    "    try:\n",
    "        if grouby_name:\n",
    "            grouby_names =  grouby_name.split()\n",
    "            df = df.groupby(by=grouby_names)\n",
    "        if filter_by:\n",
    "            filters = filter_by.split()\n",
    "            df = df[filters]\n",
    "        if operation:\n",
    "            operations = operation.split()\n",
    "            df = df.agg(operations)\n",
    "        plot =  df.plot(kind=kind,title=title,xlabel=xlabel,ylabel=ylabel,legend=legend)\n",
    "        \n",
    "        if hasattr(plot, 'count'):\n",
    "            return \"Trying to return a multiplot, try making aggregate plot\"\n",
    "        fig = plot.get_figure()\n",
    "        fig.savefig('fig.png')\n",
    "        \n",
    "        with open(\"fig.png\", \"rb\") as image:\n",
    "            image_file = image.read()\n",
    "            image_file_bytes = bytes(image_file)\n",
    "            \n",
    "        return anvil.BlobMedia(content_type=\"image/png\", content=image_file_bytes, name=\"fig_plot.png\")\n",
    "    except Exception as e:\n",
    "        logger.error(f\"Error: '{e}'' occured for request: {grouby_name=},{filter_by=},{kind=},{title=},{xlabel=},{ylabel=}\")\n",
    "        return f\"Error: '{e}'' occured for request: {grouby_name=},{filter_by=},{kind=},{title=},{xlabel=},{ylabel=}\" # sending error message to API"
   ]
  }
 ],
 "metadata": {
  "kernelspec": {
   "display_name": "Python 3",
   "language": "python",
   "name": "python3"
  },
  "language_info": {
   "codemirror_mode": {
    "name": "ipython",
    "version": 3
   },
   "file_extension": ".py",
   "mimetype": "text/x-python",
   "name": "python",
   "nbconvert_exporter": "python",
   "pygments_lexer": "ipython3",
   "version": "3.8.8"
  }
 },
 "nbformat": 4,
 "nbformat_minor": 5
}
