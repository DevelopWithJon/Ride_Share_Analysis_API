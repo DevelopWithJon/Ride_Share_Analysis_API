{
 "cells": [
  {
   "cell_type": "markdown",
   "id": "00046c42",
   "metadata": {},
   "source": [
    "# Test Util Functions"
   ]
  },
  {
   "cell_type": "code",
   "execution_count": 207,
   "id": "d8442e8f",
   "metadata": {},
   "outputs": [],
   "source": [
    "import datetime\n",
    "import numpy as np\n",
    "import pandas as pd\n",
    "import pytest\n",
    "from mock import Mock"
   ]
  },
  {
   "cell_type": "markdown",
   "id": "43bf7ba4",
   "metadata": {},
   "source": [
    "# UTILS"
   ]
  },
  {
   "cell_type": "code",
   "execution_count": 4,
   "id": "17f08f77",
   "metadata": {},
   "outputs": [],
   "source": [
    "def counter(f):\n",
    "\n",
    "    def wrapped(*args, **kwargs):\n",
    "        wrapped.count+=1\n",
    "        result = f(*args, **kwargs)\n",
    "        return result\n",
    "    wrapped.count = 0\n",
    "    return wrapped"
   ]
  },
  {
   "cell_type": "code",
   "execution_count": 87,
   "id": "7f0f2fcf",
   "metadata": {},
   "outputs": [],
   "source": [
    "def fill_na(column)\n",
    "\n",
    "    if column.dtypes == np.float64:\n",
    "        column = column.fillna(0.0)\n",
    "    if column.dtypes == \"O\":\n",
    "        column = column.fillna(\"N/A\")\n",
    "    else:\n",
    "        column = column\n",
    "    return column"
   ]
  },
  {
   "cell_type": "code",
   "execution_count": 193,
   "id": "57ae1a33",
   "metadata": {},
   "outputs": [],
   "source": [
    "def parse_ride_data(data):\n",
    "\n",
    "    merchant, ride_data = data['merchant_name'], data['product_description']\n",
    "    try:\n",
    "        if merchant == \"Uber\":\n",
    "            if \"|\" in ride_data:\n",
    "                ride_info, duration_data = ride_data.split(\"|\")\n",
    "                ride_type, distance_data = ride_info.split(\" \", 1)\n",
    "            else:\n",
    "                ride_type, distance_data, duration_data = ride_data, \"N/A\", \"N/A\"\n",
    "        elif merchant == \"Lyft\":\n",
    "            if \"(\" in ride_data:\n",
    "                ride_type, travel_data = ride_data.split(\"(\")\n",
    "                travel_data = travel_data[:-1]\n",
    "                distance_data, duration_data = travel_data.split(\",\")\n",
    "            else:\n",
    "                ride_type, distance_data, duration_data = ride_data, \"N/A\", \"N/A\"\n",
    "        else:\n",
    "            ride_type, distance_data, duration_data = ride_data, \"N/A\", \"N/A\"\n",
    "    except: \n",
    "        # this should trigger in the case where data meets the intiatal condition of either containing \"|\" \n",
    "        # or \"(\" but does not follow the remaining tradition conventions ie. abonormal record (examples: additional delimiters,\n",
    "        # spacing issues, too many to unpack, etc)\n",
    "        \n",
    "        ride_type, distance_data, duration_data = ride_data, \"N/A\", \"N/A\"\n",
    "    data['ride_type'] = ride_type.strip(),\n",
    "    data['distance_data'] =  distance_data.strip()\n",
    "    data['duration_data'] =  duration_data.strip()\n",
    "    return data"
   ]
  },
  {
   "cell_type": "code",
   "execution_count": 153,
   "id": "de4bbba2",
   "metadata": {},
   "outputs": [],
   "source": [
    "def remap_dict(dictionary):\n",
    "\n",
    "    res = []\n",
    "    for key, value in dictionary.items():\n",
    "        if isinstance(value, dict):\n",
    "            new_dictionary = {'name': key, **value}\n",
    "            res.append(new_dictionary)\n",
    "        else:\n",
    "            res.append({key: value})\n",
    "    return res"
   ]
  },
  {
   "cell_type": "markdown",
   "id": "b92a75c9",
   "metadata": {},
   "source": [
    "# Test Data"
   ]
  },
  {
   "cell_type": "code",
   "execution_count": 154,
   "id": "1f8dc492",
   "metadata": {},
   "outputs": [],
   "source": [
    "test_num = pd.DataFrame(data={'number': np.nan}, index=['number'])\n",
    "expected_num = pd.DataFrame(data={'number': 0.0}, index=['number'])\n",
    "test_obj = pd.DataFrame(data={'object': None}, index=['object'])\n",
    "expected_obj = pd.DataFrame(data={'object': 'N/A'}, index=['object'])\n",
    "test_not_num_obj = pd.DataFrame(data={'date': datetime.datetime(2020,1,1)}, index=['date'])\n",
    "test_parse_df = pd.DataFrame(data = {\n",
    "    'merchant_name': ['Uber', 'Lyft', 'Uber'],\n",
    "    'product_description': [\"UberX 3.16 miles | 22 min\", \"Lyft fare (1.18mi, 8m 57s)\", \"UberX SCL Ride cancelled\"],\n",
    "    'nothing':[1,1,1,], \n",
    "})\n",
    "expected_parse_df = pd.DataFrame(data={\n",
    "    'merchant_name': ['Uber', 'Lyft', 'Uber'],\n",
    "    'product_description': [\"UberX 3.16 miles | 22 min\", \"Lyft fare (1.18mi, 8m 57s)\", \"UberX SCL Ride cancelled\"],\n",
    "    'nothing':[1,1,1,],\n",
    "    'ride_type': [('UberX',), ('Lyft fare',), ('UberX SCL Ride cancelled',)],\n",
    "    'distance_data': ['3.16 miles', '1.18mi', 'N/A'],\n",
    "    'duration_data': ['22 min', '8m 57s', 'N/A']})\n",
    "test_stats_dict = {'count': 267045.0,\n",
    " 'mean': 16.56587470276928,\n",
    " 'std': 65.22228905493417,\n",
    " 'min': 0.0,\n",
    " '25%': 7.99,\n",
    " '50%': 12.06,\n",
    " '75%': 19.53,\n",
    " 'max': 21700.0\n",
    "}\n",
    "expected_stats_dict = [{'count': 267045.0},\n",
    " {'mean': 16.56587470276928},\n",
    " {'std': 65.22228905493417},\n",
    " {'min': 0.0},\n",
    " {'25%': 7.99},\n",
    " {'50%': 12.06},\n",
    " {'75%': 19.53},\n",
    " {'max': 21700.0}]\n"
   ]
  },
  {
   "cell_type": "code",
   "execution_count": 157,
   "id": "fc993eba",
   "metadata": {},
   "outputs": [],
   "source": [
    "def test_counter():\n",
    "    @counter\n",
    "    def mock_func():\n",
    "        pass\n",
    "    mock_func()\n",
    "    assert mock_func.count == 1"
   ]
  },
  {
   "cell_type": "code",
   "execution_count": 158,
   "id": "3af9bde1",
   "metadata": {},
   "outputs": [],
   "source": [
    "@pytest.mark.parameterize(\"test_type\", \"expected_fill\", [(test_num, expected_num),(test_obj, expected_obj),\n",
    "                                                         (test_not_num_obj,test_not_num_obj)])\n",
    "def test_fill_na(test_type):\n",
    "    assert expected_fill.to_dict() == test_type.apply(fill_na, axis=0).to_dict()\n",
    "    "
   ]
  },
  {
   "cell_type": "code",
   "execution_count": 201,
   "id": "895e2bf5",
   "metadata": {},
   "outputs": [],
   "source": [
    "def test_parse_ride_data(test_df, expected_df):\n",
    "    assert expected_df.to_dict() == test_df.apply(parse_ride_data, axis=1).to_dict()\n",
    "    "
   ]
  },
  {
   "cell_type": "code",
   "execution_count": 202,
   "id": "f2723d1e",
   "metadata": {},
   "outputs": [],
   "source": [
    "def test_remap_dict(test_dict, expected_dict):\n",
    "    assert expected_dict == test_dict.apply(remap_dict, axis=1)"
   ]
  },
  {
   "cell_type": "code",
   "execution_count": null,
   "id": "dadf6c5f",
   "metadata": {},
   "outputs": [],
   "source": []
  }
 ],
 "metadata": {
  "kernelspec": {
   "display_name": "Python 3",
   "language": "python",
   "name": "python3"
  },
  "language_info": {
   "codemirror_mode": {
    "name": "ipython",
    "version": 3
   },
   "file_extension": ".py",
   "mimetype": "text/x-python",
   "name": "python",
   "nbconvert_exporter": "python",
   "pygments_lexer": "ipython3",
   "version": "3.8.8"
  }
 },
 "nbformat": 4,
 "nbformat_minor": 5
}
